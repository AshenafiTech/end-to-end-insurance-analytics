{
 "cells": [
  {
   "cell_type": "markdown",
   "id": "9b5049d8",
   "metadata": {},
   "source": [
    "# Machine Learning Modeling for Insurance Analytics\n",
    "\n",
    "This notebook loads the cleaned insurance data, performs feature engineering, and runs regression and classification models for claim prediction."
   ]
  },
  {
   "cell_type": "markdown",
   "id": "f85e978c",
   "metadata": {},
   "source": [
    "## 1. Check for Existing Notebooks\n",
    "\n",
    "This section lists all Jupyter notebooks in the current directory."
   ]
  },
  {
   "cell_type": "code",
   "execution_count": null,
   "id": "c749399e",
   "metadata": {},
   "outputs": [],
   "source": [
    "import os\n",
    "import glob\n",
    "\n",
    "# List all .ipynb files in the current directory\n",
    "notebooks = glob.glob(\"*.ipynb\")\n",
    "print(\"Existing notebooks:\", notebooks)"
   ]
  },
  {
   "cell_type": "markdown",
   "id": "d419eff8",
   "metadata": {},
   "source": [
    "## 2. Create a New Notebook if Needed\n",
    "\n",
    "If no notebook exists or if you want to start fresh, this section shows how to create a new notebook programmatically."
   ]
  },
  {
   "cell_type": "code",
   "execution_count": null,
   "id": "9cb71f25",
   "metadata": {},
   "outputs": [],
   "source": [
    "import nbformat\n",
    "\n",
    "# Create a new notebook if none exists\n",
    "if not notebooks:\n",
    "    nb = nbformat.v4.new_notebook()\n",
    "    nb['cells'] = [nbformat.v4.new_markdown_cell(\"# New Machine Learning Notebook\\nThis notebook was created programmatically.\")]\n",
    "    filename = \"new_ml_notebook.ipynb\"\n",
    "    with open(filename, 'w') as f:\n",
    "        nbformat.write(nb, f)\n",
    "    print(f\"Created new notebook: {filename}\")\n",
    "else:\n",
    "    print(\"Notebook(s) already exist. No new notebook created.\")"
   ]
  },
  {
   "cell_type": "markdown",
   "id": "7fa0f52b",
   "metadata": {},
   "source": [
    "## 3. Confirm Notebook Creation\n",
    "\n",
    "This section prints a message confirming the creation of the new notebook, including its filename."
   ]
  },
  {
   "cell_type": "code",
   "execution_count": null,
   "id": "26f10716",
   "metadata": {},
   "outputs": [],
   "source": [
    "# The confirmation is already printed in the previous cell.\n",
    "# You can check the output above for the notebook creation message."
   ]
  }
 ],
 "metadata": {
  "language_info": {
   "name": "python"
  }
 },
 "nbformat": 4,
 "nbformat_minor": 5
}
